{
 "cells": [
  {
   "cell_type": "code",
   "execution_count": null,
   "metadata": {},
   "outputs": [],
   "source": [
    "import matplotlib\n",
    "import matplotlib.pyplot as plt\n",
    "import json"
   ]
  },
  {
   "cell_type": "markdown",
   "metadata": {},
   "source": [
    "# Load benchmark results\n",
    "\n",
    "Choose a file that was generated using `benchmark.py`"
   ]
  },
  {
   "cell_type": "code",
   "execution_count": null,
   "metadata": {},
   "outputs": [],
   "source": [
    "filehandle = open(\"../../../benchmark_results/benchmark_results_sign.json\", \"r\")\n",
    "results = json.load(filehandle)\n",
    "available_ops = set([x[\"operation\"] for x in results])\n",
    "available_types = set([x[\"data_type\"] for x in results])\n",
    "available_shapes = set([x[\"data_shape\"] for x in results])\n",
    "print(\"Available operations in file: {}\".format(available_ops))\n",
    "print(\"Available data types in file: {}\".format(available_types))\n",
    "print(\"Available tensor shapes in file: {}\".format(available_shapes))"
   ]
  },
  {
   "cell_type": "markdown",
   "metadata": {},
   "source": [
    "# Choose what to plot\n",
    "\n",
    "Evaluate one of the cells below to choose a set of results to plot"
   ]
  },
  {
   "cell_type": "markdown",
   "metadata": {},
   "source": [
    "## Compare data types"
   ]
  },
  {
   "cell_type": "code",
   "execution_count": null,
   "metadata": {},
   "outputs": [],
   "source": [
    "plot_operations = [\"bsign\"]\n",
    "plot_datatypes = available_types\n",
    "plot_shapes = [\"(-1)\"]"
   ]
  },
  {
   "cell_type": "markdown",
   "metadata": {},
   "source": [
    "## Compare shapes"
   ]
  },
  {
   "cell_type": "code",
   "execution_count": null,
   "metadata": {},
   "outputs": [],
   "source": [
    "plot_operations = [\"bsign\"]\n",
    "plot_datatypes = [\"float32\"]\n",
    "plot_shapes = available_shapes"
   ]
  },
  {
   "cell_type": "markdown",
   "metadata": {},
   "source": [
    "## Compare operations"
   ]
  },
  {
   "cell_type": "code",
   "execution_count": null,
   "metadata": {},
   "outputs": [],
   "source": [
    "plot_operations = available_ops\n",
    "plot_datatypes = [\"float32\"]\n",
    "plot_shapes = [\"(-1)\"]"
   ]
  },
  {
   "cell_type": "markdown",
   "metadata": {},
   "source": [
    "## Compare everything that is available"
   ]
  },
  {
   "cell_type": "code",
   "execution_count": null,
   "metadata": {},
   "outputs": [],
   "source": [
    "plot_operations = available_ops\n",
    "plot_datatypes = available_types\n",
    "plot_shapes = available_shapes"
   ]
  },
  {
   "cell_type": "markdown",
   "metadata": {},
   "source": [
    "# Plot the results"
   ]
  },
  {
   "cell_type": "code",
   "execution_count": null,
   "metadata": {},
   "outputs": [],
   "source": [
    "fig, ax = plt.subplots()\n",
    "\n",
    "def getX(xys):\n",
    "    return [xy[0] / 1000000 for xy in xys]\n",
    "def getY(xys):\n",
    "    return [xy[1] for xy in xys]\n",
    "\n",
    "for result in results:\n",
    "    if not result[\"operation\"] in plot_operations:\n",
    "        continue\n",
    "    if not result[\"data_type\"] in plot_datatypes:\n",
    "        continue\n",
    "    if not result[\"data_shape\"] in plot_shapes:\n",
    "        continue\n",
    "    ax.plot(getX(result[\"timings\"]), getY(result[\"timings\"]), \".-\", label=result[\"operation\"] + \" | \" + result[\"data_type\"] + \" | \" + result[\"data_shape\"])\n",
    "\n",
    "ax.legend()\n",
    "ax.set(xlabel='input size (millions of elements)', ylabel='time (seconds)',\n",
    "       title='Tensorflow kernel speed')\n",
    "ax.grid()\n",
    "\n",
    "plt.show()"
   ]
  },
  {
   "cell_type": "markdown",
   "metadata": {},
   "source": [
    "# Save the plot as an image"
   ]
  },
  {
   "cell_type": "code",
   "execution_count": null,
   "metadata": {},
   "outputs": [],
   "source": [
    "fig.savefig(\"benchmark_plot.png\")"
   ]
  }
 ],
 "metadata": {
  "kernelspec": {
   "display_name": "Python 3",
   "language": "python",
   "name": "python3"
  },
  "language_info": {
   "codemirror_mode": {
    "name": "ipython",
    "version": 3
   },
   "file_extension": ".py",
   "mimetype": "text/x-python",
   "name": "python",
   "nbconvert_exporter": "python",
   "pygments_lexer": "ipython3",
   "version": "3.7.4"
  }
 },
 "nbformat": 4,
 "nbformat_minor": 4
}
