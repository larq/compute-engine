{
 "cells": [
  {
   "cell_type": "code",
   "execution_count": null,
   "metadata": {},
   "outputs": [],
   "source": [
    "import matplotlib\n",
    "import matplotlib.pyplot as plt\n",
    "import json"
   ]
  },
  {
   "cell_type": "markdown",
   "metadata": {},
   "source": [
    "# Load benchmark results\n",
    "\n",
    "Choose a file that was generated using `benchmark.py`"
   ]
  },
  {
   "cell_type": "code",
   "execution_count": null,
   "metadata": {},
   "outputs": [],
   "source": [
    "filehandle = open(\"../../../benchmark_results/benchmark_results_sign.json\", \"r\")\n",
    "results = json.load(filehandle)"
   ]
  },
  {
   "cell_type": "markdown",
   "metadata": {},
   "source": [
    "# Choose what to plot\n",
    "\n",
    "For example only plot certain datatypes.\n",
    "For more detailed selection: the first index of the `results` object will indicate which operator it is and the second index indicates which datatype."
   ]
  },
  {
   "cell_type": "code",
   "execution_count": null,
   "metadata": {},
   "outputs": [],
   "source": [
    "# Plot all datatypes\n",
    "plot_datatypes = [\"int8\", \"int32\", \"int64\", \"float32\", \"float64\"]"
   ]
  },
  {
   "cell_type": "code",
   "execution_count": null,
   "metadata": {},
   "outputs": [],
   "source": [
    "# Plot only int32 and float32\n",
    "plot_datatypes = [\"int32\", \"float32\"]"
   ]
  },
  {
   "cell_type": "markdown",
   "metadata": {},
   "source": [
    "# Plot the results"
   ]
  },
  {
   "cell_type": "code",
   "execution_count": null,
   "metadata": {},
   "outputs": [],
   "source": [
    "fig, ax = plt.subplots()\n",
    "\n",
    "def getX(xys):\n",
    "    return [xy[0] / 1000000 for xy in xys]\n",
    "def getY(xys):\n",
    "    return [xy[1] for xy in xys]\n",
    "\n",
    "for op_result in results:\n",
    "    for result in op_result:\n",
    "        if not result[\"data_type\"] in plot_datatypes:\n",
    "            continue\n",
    "        ax.plot(getX(result[\"timings\"]), getY(result[\"timings\"]), label=result[\"operation\"] + \" - \" + result[\"data_type\"])\n",
    "\n",
    "ax.legend()\n",
    "ax.set(xlabel='input size (millions)', ylabel='time (seconds)',\n",
    "       title='Tensorflow kernel speed')\n",
    "ax.grid()\n",
    "\n",
    "plt.show()"
   ]
  },
  {
   "cell_type": "markdown",
   "metadata": {},
   "source": [
    "# Save the plot as an image"
   ]
  },
  {
   "cell_type": "code",
   "execution_count": null,
   "metadata": {},
   "outputs": [],
   "source": [
    "fig.savefig(\"benchmark_plot.png\")"
   ]
  }
 ],
 "metadata": {
  "kernelspec": {
   "display_name": "Python 3",
   "language": "python",
   "name": "python3"
  },
  "language_info": {
   "codemirror_mode": {
    "name": "ipython",
    "version": 3
   },
   "file_extension": ".py",
   "mimetype": "text/x-python",
   "name": "python",
   "nbconvert_exporter": "python",
   "pygments_lexer": "ipython3",
   "version": "3.7.4"
  }
 },
 "nbformat": 4,
 "nbformat_minor": 4
}
