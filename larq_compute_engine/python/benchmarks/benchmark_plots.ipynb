{
 "cells": [
  {
   "cell_type": "code",
   "execution_count": null,
   "metadata": {},
   "outputs": [],
   "source": [
    "import matplotlib\n",
    "import matplotlib.pyplot as plt\n",
    "import json"
   ]
  },
  {
   "cell_type": "code",
   "execution_count": null,
   "metadata": {},
   "outputs": [],
   "source": [
    "filehandle = open(\"benchmark_results_flat_singlelayer.json\", \"r\")\n",
    "results = json.load(filehandle)"
   ]
  },
  {
   "cell_type": "code",
   "execution_count": null,
   "metadata": {},
   "outputs": [],
   "source": [
    "# Optionally, only plot the 32-bit versions for some more clarity\n",
    "results = results[::2]"
   ]
  },
  {
   "cell_type": "code",
   "execution_count": null,
   "metadata": {},
   "outputs": [],
   "source": [
    "fig, ax = plt.subplots()\n",
    "\n",
    "def getX(xys):\n",
    "    return [xy[0] / 1000000 for xy in xys]\n",
    "def getY(xys):\n",
    "    return [xy[1] for xy in xys]\n",
    "\n",
    "for r in results:\n",
    "    ax.plot(getX(r[2]), getY(r[2]), label=r[0] + \" - \" + r[1])\n",
    "\n",
    "ax.legend()\n",
    "ax.set(xlabel='input size (millions)', ylabel='time (seconds)',\n",
    "       title='Tensorflow kernel speed')\n",
    "ax.grid()\n",
    "\n",
    "plt.show()"
   ]
  },
  {
   "cell_type": "code",
   "execution_count": null,
   "metadata": {},
   "outputs": [],
   "source": [
    "fig.savefig(\"benchmark_plot_flat_singlelayer.png\")"
   ]
  }
 ],
 "metadata": {
  "kernelspec": {
   "display_name": "Python 3",
   "language": "python",
   "name": "python3"
  },
  "language_info": {
   "codemirror_mode": {
    "name": "ipython",
    "version": 3
   },
   "file_extension": ".py",
   "mimetype": "text/x-python",
   "name": "python",
   "nbconvert_exporter": "python",
   "pygments_lexer": "ipython3",
   "version": "3.7.4"
  }
 },
 "nbformat": 4,
 "nbformat_minor": 4
}
